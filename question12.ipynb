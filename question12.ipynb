{
 "cells": [
  {
   "cell_type": "markdown",
   "id": "df39a894-3174-49b5-b483-8c41ffa41cdb",
   "metadata": {},
   "source": [
    "We are currently working in the following directory:"
   ]
  },
  {
   "cell_type": "code",
   "execution_count": null,
   "id": "549eb5cf-d9ea-4d64-a476-119a3a566c27",
   "metadata": {},
   "outputs": [],
   "source": [
    "!pwd"
   ]
  },
  {
   "cell_type": "markdown",
   "id": "5a102b3d-3d18-4a49-ba28-dddacfdcf5e0",
   "metadata": {},
   "source": [
    "To time how long it takes to run a Python cell, we could use the timeit command inside a cell as is shown below:"
   ]
  },
  {
   "cell_type": "code",
   "execution_count": null,
   "id": "8cc52dfc-5d70-4275-8ac4-7349b0627d42",
   "metadata": {},
   "outputs": [],
   "source": [
    "%%timeit\n",
    "for i in range(1_000_000):\n",
    "    i**2"
   ]
  }
 ],
 "metadata": {
  "kernelspec": {
   "display_name": "",
   "name": ""
  },
  "language_info": {
   "name": ""
  }
 },
 "nbformat": 4,
 "nbformat_minor": 5
}
