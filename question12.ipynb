{
 "cells": [
  {
   "cell_type": "markdown",
   "id": "16b531f2-1b12-4b26-a760-756edcc35138",
   "metadata": {},
   "source": [
    "We are currently working in the following directory:"
   ]
  },
  {
   "cell_type": "code",
   "execution_count": 7,
   "id": "c3dba80e-ab52-4c01-af13-7d709a8b3794",
   "metadata": {},
   "outputs": [
    {
     "name": "stdout",
     "output_type": "stream",
     "text": [
      "/c/Users/onyis/OneDrive/Desktop/jupyterlab_practice\n"
     ]
    }
   ],
   "source": [
    "!pwd"
   ]
  },
  {
   "cell_type": "markdown",
   "id": "fa1197d2-4a20-4b0a-a481-45746c3499ad",
   "metadata": {},
   "source": [
    "To time how long it takes to run a Python cell, we could use the timeit command inside a cell as is shown below: Followed by the proper use of the timeit command to time the following loop:"
   ]
  },
  {
   "cell_type": "code",
   "execution_count": 8,
   "id": "868b8ccd-2c94-425f-9bcd-d481839e07d5",
   "metadata": {},
   "outputs": [
    {
     "name": "stdout",
     "output_type": "stream",
     "text": [
      "240 ms ± 9.66 ms per loop (mean ± std. dev. of 7 runs, 1 loop each)\n"
     ]
    }
   ],
   "source": [
    "%%timeit\n",
    "for i in range(1_000_000):\n",
    "    i**2"
   ]
  },
  {
   "cell_type": "code",
   "execution_count": 9,
   "id": "bcb8dbfe-9c5f-4527-b5f8-c78389958c94",
   "metadata": {},
   "outputs": [
    {
     "name": "stderr",
     "output_type": "stream",
     "text": [
      "[NbConvertApp] Converting notebook question12.ipynb to html\n",
      "[NbConvertApp] Writing 271108 bytes to question12.html\n"
     ]
    }
   ],
   "source": [
    "!jupyter nbconvert question12.ipynb --to html --no-input"
   ]
  }
 ],
 "metadata": {
  "kernelspec": {
   "display_name": "Python 3 (ipykernel)",
   "language": "python",
   "name": "python3"
  },
  "language_info": {
   "codemirror_mode": {
    "name": "ipython",
    "version": 3
   },
   "file_extension": ".py",
   "mimetype": "text/x-python",
   "name": "python",
   "nbconvert_exporter": "python",
   "pygments_lexer": "ipython3",
   "version": "3.13.5"
  }
 },
 "nbformat": 4,
 "nbformat_minor": 5
}
