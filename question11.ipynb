{
 "cells": [
  {
   "cell_type": "markdown",
   "id": "6997f473-c6cd-4aef-9e08-e1d5bcc0da61",
   "metadata": {},
   "source": [
    "# Ony Nwoba\n",
    "Notebook for assignment 7"
   ]
  },
  {
   "cell_type": "code",
   "execution_count": 1,
   "id": "f98c75b7-0973-47d4-9761-561e16bf28de",
   "metadata": {},
   "outputs": [
    {
     "data": {
      "text/plain": [
       "5.0"
      ]
     },
     "execution_count": 1,
     "metadata": {},
     "output_type": "execute_result"
    }
   ],
   "source": [
    "def compute_mean(values):\n",
    "    return sum(values) / len(values)\n",
    "\n",
    "compute_mean([2, 4, 6, 8])"
   ]
  },
  {
   "cell_type": "markdown",
   "id": "76e1b5de-84bf-485a-860b-5b2817403c81",
   "metadata": {},
   "source": [
    "This code defines a function compute_mean that takes a list of numbers, sums them up, and divides by the length of the list to calculate the mean."
   ]
  }
 ],
 "metadata": {
  "kernelspec": {
   "display_name": "Python 3 (ipykernel)",
   "language": "python",
   "name": "python3"
  },
  "language_info": {
   "codemirror_mode": {
    "name": "ipython",
    "version": 3
   },
   "file_extension": ".py",
   "mimetype": "text/x-python",
   "name": "python",
   "nbconvert_exporter": "python",
   "pygments_lexer": "ipython3",
   "version": "3.13.5"
  }
 },
 "nbformat": 4,
 "nbformat_minor": 5
}
